{
 "cells": [
  {
   "cell_type": "markdown",
   "metadata": {},
   "source": [
    "# Intended For Visualization Purposes Only"
   ]
  },
  {
   "cell_type": "code",
   "execution_count": 7,
   "metadata": {},
   "outputs": [],
   "source": [
    "# import packages needed to create dataframe and plot\n",
    "\n",
    "import pandas as pd\n",
    "import matplotlib.pyplot as plt\n",
    "%matplotlib inline"
   ]
  },
  {
   "cell_type": "markdown",
   "metadata": {},
   "source": [
    "# Loading Data Into Dataframe:"
   ]
  },
  {
   "cell_type": "code",
   "execution_count": 9,
   "metadata": {},
   "outputs": [],
   "source": [
    "# data location of .bag-converted .csv files:\n",
    "\n",
    "velocity_location = pd.read_csv('../data/raw/velocity_data.csv')\n",
    "odometry_location = pd.read_csv('../data/raw/odometry_data.csv')\n",
    "standard_location = pd.read_csv('../data/raw/standard_data.csv')\n",
    "wrench_location = pd.read_csv('../data/raw/wrench_data.csv')"
   ]
  },
  {
   "cell_type": "code",
   "execution_count": 13,
   "metadata": {},
   "outputs": [],
   "source": [
    "# load datas into dataframes.\n",
    "velocity_df = pd.read_csv(velocity_location)\n",
    "odometry_df = pd.read_csv(odometry_location)\n",
    "standard_df = pd.read_csv(standard_location)\n",
    "wrench_df = pd.read_csv(wrench_location)"
   ]
  },
  {
   "cell_type": "code",
   "execution_count": 14,
   "metadata": {},
   "outputs": [
    {
     "data": {
      "text/html": [
       "<div>\n",
       "<style scoped>\n",
       "    .dataframe tbody tr th:only-of-type {\n",
       "        vertical-align: middle;\n",
       "    }\n",
       "\n",
       "    .dataframe tbody tr th {\n",
       "        vertical-align: top;\n",
       "    }\n",
       "\n",
       "    .dataframe thead th {\n",
       "        text-align: right;\n",
       "    }\n",
       "</style>\n",
       "<table border=\"1\" class=\"dataframe\">\n",
       "  <thead>\n",
       "    <tr style=\"text-align: right;\">\n",
       "      <th></th>\n",
       "      <th>Unnamed: 0</th>\n",
       "      <th>Time</th>\n",
       "      <th>linear.x</th>\n",
       "      <th>linear.y</th>\n",
       "      <th>linear.z</th>\n",
       "      <th>angular.x</th>\n",
       "      <th>angular.y</th>\n",
       "      <th>angular.z</th>\n",
       "    </tr>\n",
       "  </thead>\n",
       "  <tbody>\n",
       "    <tr>\n",
       "      <th>0</th>\n",
       "      <td>0</td>\n",
       "      <td>1.464818e+09</td>\n",
       "      <td>0.169401</td>\n",
       "      <td>0.0</td>\n",
       "      <td>0.0</td>\n",
       "      <td>0.0</td>\n",
       "      <td>0.0</td>\n",
       "      <td>NaN</td>\n",
       "    </tr>\n",
       "    <tr>\n",
       "      <th>1</th>\n",
       "      <td>1</td>\n",
       "      <td>1.464818e+09</td>\n",
       "      <td>-0.063698</td>\n",
       "      <td>0.0</td>\n",
       "      <td>0.0</td>\n",
       "      <td>0.0</td>\n",
       "      <td>0.0</td>\n",
       "      <td>NaN</td>\n",
       "    </tr>\n",
       "    <tr>\n",
       "      <th>2</th>\n",
       "      <td>2</td>\n",
       "      <td>1.464818e+09</td>\n",
       "      <td>0.217496</td>\n",
       "      <td>0.0</td>\n",
       "      <td>0.0</td>\n",
       "      <td>0.0</td>\n",
       "      <td>0.0</td>\n",
       "      <td>NaN</td>\n",
       "    </tr>\n",
       "    <tr>\n",
       "      <th>3</th>\n",
       "      <td>3</td>\n",
       "      <td>1.464818e+09</td>\n",
       "      <td>-0.112279</td>\n",
       "      <td>0.0</td>\n",
       "      <td>0.0</td>\n",
       "      <td>0.0</td>\n",
       "      <td>0.0</td>\n",
       "      <td>NaN</td>\n",
       "    </tr>\n",
       "    <tr>\n",
       "      <th>4</th>\n",
       "      <td>4</td>\n",
       "      <td>1.464818e+09</td>\n",
       "      <td>0.102366</td>\n",
       "      <td>0.0</td>\n",
       "      <td>0.0</td>\n",
       "      <td>0.0</td>\n",
       "      <td>0.0</td>\n",
       "      <td>NaN</td>\n",
       "    </tr>\n",
       "  </tbody>\n",
       "</table>\n",
       "</div>"
      ],
      "text/plain": [
       "   Unnamed: 0          Time  linear.x  linear.y  linear.z  angular.x  \\\n",
       "0           0  1.464818e+09  0.169401       0.0       0.0        0.0   \n",
       "1           1  1.464818e+09 -0.063698       0.0       0.0        0.0   \n",
       "2           2  1.464818e+09  0.217496       0.0       0.0        0.0   \n",
       "3           3  1.464818e+09 -0.112279       0.0       0.0        0.0   \n",
       "4           4  1.464818e+09  0.102366       0.0       0.0        0.0   \n",
       "\n",
       "   angular.y  angular.z  \n",
       "0        0.0        NaN  \n",
       "1        0.0        NaN  \n",
       "2        0.0        NaN  \n",
       "3        0.0        NaN  \n",
       "4        0.0        NaN  "
      ]
     },
     "execution_count": 14,
     "metadata": {},
     "output_type": "execute_result"
    }
   ],
   "source": [
    "# using .head(), read first five rows of data frames.\n",
    "velocity_df.head()"
   ]
  },
  {
   "cell_type": "code",
   "execution_count": 32,
   "metadata": {},
   "outputs": [
    {
     "data": {
      "text/html": [
       "<div>\n",
       "<style scoped>\n",
       "    .dataframe tbody tr th:only-of-type {\n",
       "        vertical-align: middle;\n",
       "    }\n",
       "\n",
       "    .dataframe tbody tr th {\n",
       "        vertical-align: top;\n",
       "    }\n",
       "\n",
       "    .dataframe thead th {\n",
       "        text-align: right;\n",
       "    }\n",
       "</style>\n",
       "<table border=\"1\" class=\"dataframe\">\n",
       "  <thead>\n",
       "    <tr style=\"text-align: right;\">\n",
       "      <th></th>\n",
       "      <th>Unnamed: 0</th>\n",
       "      <th>Time</th>\n",
       "      <th>header.seq</th>\n",
       "      <th>header.frame_id</th>\n",
       "      <th>child_frame_id</th>\n",
       "      <th>pose.x</th>\n",
       "      <th>pose.y</th>\n",
       "      <th>pose.z</th>\n",
       "      <th>orientation.x</th>\n",
       "      <th>orientation.y</th>\n",
       "      <th>orientation.z</th>\n",
       "      <th>orientation.w</th>\n",
       "      <th>linear.x</th>\n",
       "      <th>linear.y</th>\n",
       "      <th>linear.z</th>\n",
       "      <th>angular.x</th>\n",
       "      <th>angular.y</th>\n",
       "      <th>angular.z</th>\n",
       "    </tr>\n",
       "  </thead>\n",
       "  <tbody>\n",
       "    <tr>\n",
       "      <th>0</th>\n",
       "      <td>0</td>\n",
       "      <td>1.464818e+09</td>\n",
       "      <td>39500</td>\n",
       "      <td>/odom</td>\n",
       "      <td>base_link</td>\n",
       "      <td>505759.707787</td>\n",
       "      <td>3.564595e+06</td>\n",
       "      <td>716.135317</td>\n",
       "      <td>-0.002930</td>\n",
       "      <td>0.006255</td>\n",
       "      <td>-0.003309</td>\n",
       "      <td>0.999971</td>\n",
       "      <td>0.015346</td>\n",
       "      <td>0.000013</td>\n",
       "      <td>-0.067276</td>\n",
       "      <td>NaN</td>\n",
       "      <td>NaN</td>\n",
       "      <td>NaN</td>\n",
       "    </tr>\n",
       "    <tr>\n",
       "      <th>1</th>\n",
       "      <td>1</td>\n",
       "      <td>1.464818e+09</td>\n",
       "      <td>39501</td>\n",
       "      <td>/odom</td>\n",
       "      <td>base_link</td>\n",
       "      <td>505759.709308</td>\n",
       "      <td>3.564595e+06</td>\n",
       "      <td>716.128454</td>\n",
       "      <td>-0.002930</td>\n",
       "      <td>0.006256</td>\n",
       "      <td>-0.003316</td>\n",
       "      <td>0.999971</td>\n",
       "      <td>0.015542</td>\n",
       "      <td>0.000535</td>\n",
       "      <td>-0.069148</td>\n",
       "      <td>NaN</td>\n",
       "      <td>NaN</td>\n",
       "      <td>NaN</td>\n",
       "    </tr>\n",
       "    <tr>\n",
       "      <th>2</th>\n",
       "      <td>2</td>\n",
       "      <td>1.464818e+09</td>\n",
       "      <td>39502</td>\n",
       "      <td>/odom</td>\n",
       "      <td>base_link</td>\n",
       "      <td>505759.710857</td>\n",
       "      <td>3.564595e+06</td>\n",
       "      <td>716.121424</td>\n",
       "      <td>-0.002934</td>\n",
       "      <td>0.006252</td>\n",
       "      <td>-0.003311</td>\n",
       "      <td>0.999971</td>\n",
       "      <td>0.015293</td>\n",
       "      <td>0.000015</td>\n",
       "      <td>-0.070843</td>\n",
       "      <td>NaN</td>\n",
       "      <td>NaN</td>\n",
       "      <td>NaN</td>\n",
       "    </tr>\n",
       "    <tr>\n",
       "      <th>3</th>\n",
       "      <td>3</td>\n",
       "      <td>1.464818e+09</td>\n",
       "      <td>39503</td>\n",
       "      <td>/odom</td>\n",
       "      <td>base_link</td>\n",
       "      <td>505759.703280</td>\n",
       "      <td>3.564595e+06</td>\n",
       "      <td>716.148587</td>\n",
       "      <td>-0.002929</td>\n",
       "      <td>0.006248</td>\n",
       "      <td>-0.003308</td>\n",
       "      <td>0.999971</td>\n",
       "      <td>0.015200</td>\n",
       "      <td>-0.000652</td>\n",
       "      <td>-0.072371</td>\n",
       "      <td>NaN</td>\n",
       "      <td>NaN</td>\n",
       "      <td>NaN</td>\n",
       "    </tr>\n",
       "    <tr>\n",
       "      <th>4</th>\n",
       "      <td>4</td>\n",
       "      <td>1.464818e+09</td>\n",
       "      <td>39504</td>\n",
       "      <td>/odom</td>\n",
       "      <td>base_link</td>\n",
       "      <td>505759.704779</td>\n",
       "      <td>3.564595e+06</td>\n",
       "      <td>716.141270</td>\n",
       "      <td>-0.002918</td>\n",
       "      <td>0.006249</td>\n",
       "      <td>-0.003314</td>\n",
       "      <td>0.999971</td>\n",
       "      <td>0.014602</td>\n",
       "      <td>-0.000466</td>\n",
       "      <td>-0.073985</td>\n",
       "      <td>NaN</td>\n",
       "      <td>NaN</td>\n",
       "      <td>NaN</td>\n",
       "    </tr>\n",
       "  </tbody>\n",
       "</table>\n",
       "</div>"
      ],
      "text/plain": [
       "   Unnamed: 0          Time  header.seq header.frame_id child_frame_id  \\\n",
       "0           0  1.464818e+09       39500           /odom      base_link   \n",
       "1           1  1.464818e+09       39501           /odom      base_link   \n",
       "2           2  1.464818e+09       39502           /odom      base_link   \n",
       "3           3  1.464818e+09       39503           /odom      base_link   \n",
       "4           4  1.464818e+09       39504           /odom      base_link   \n",
       "\n",
       "          pose.x        pose.y      pose.z  orientation.x  orientation.y  \\\n",
       "0  505759.707787  3.564595e+06  716.135317      -0.002930       0.006255   \n",
       "1  505759.709308  3.564595e+06  716.128454      -0.002930       0.006256   \n",
       "2  505759.710857  3.564595e+06  716.121424      -0.002934       0.006252   \n",
       "3  505759.703280  3.564595e+06  716.148587      -0.002929       0.006248   \n",
       "4  505759.704779  3.564595e+06  716.141270      -0.002918       0.006249   \n",
       "\n",
       "   orientation.z  orientation.w  linear.x  linear.y  linear.z  angular.x  \\\n",
       "0      -0.003309       0.999971  0.015346  0.000013 -0.067276        NaN   \n",
       "1      -0.003316       0.999971  0.015542  0.000535 -0.069148        NaN   \n",
       "2      -0.003311       0.999971  0.015293  0.000015 -0.070843        NaN   \n",
       "3      -0.003308       0.999971  0.015200 -0.000652 -0.072371        NaN   \n",
       "4      -0.003314       0.999971  0.014602 -0.000466 -0.073985        NaN   \n",
       "\n",
       "   angular.y  angular.z  \n",
       "0        NaN        NaN  \n",
       "1        NaN        NaN  \n",
       "2        NaN        NaN  \n",
       "3        NaN        NaN  \n",
       "4        NaN        NaN  "
      ]
     },
     "execution_count": 32,
     "metadata": {},
     "output_type": "execute_result"
    }
   ],
   "source": [
    "odometry_df.head()"
   ]
  },
  {
   "cell_type": "code",
   "execution_count": 16,
   "metadata": {},
   "outputs": [
    {
     "data": {
      "text/html": [
       "<div>\n",
       "<style scoped>\n",
       "    .dataframe tbody tr th:only-of-type {\n",
       "        vertical-align: middle;\n",
       "    }\n",
       "\n",
       "    .dataframe tbody tr th {\n",
       "        vertical-align: top;\n",
       "    }\n",
       "\n",
       "    .dataframe thead th {\n",
       "        text-align: right;\n",
       "    }\n",
       "</style>\n",
       "<table border=\"1\" class=\"dataframe\">\n",
       "  <thead>\n",
       "    <tr style=\"text-align: right;\">\n",
       "      <th></th>\n",
       "      <th>Unnamed: 0</th>\n",
       "      <th>Time</th>\n",
       "      <th>data</th>\n",
       "    </tr>\n",
       "  </thead>\n",
       "  <tbody>\n",
       "    <tr>\n",
       "      <th>0</th>\n",
       "      <td>0</td>\n",
       "      <td>1.464818e+09</td>\n",
       "      <td>0.000001</td>\n",
       "    </tr>\n",
       "    <tr>\n",
       "      <th>1</th>\n",
       "      <td>1</td>\n",
       "      <td>1.464818e+09</td>\n",
       "      <td>-0.078539</td>\n",
       "    </tr>\n",
       "    <tr>\n",
       "      <th>2</th>\n",
       "      <td>2</td>\n",
       "      <td>1.464818e+09</td>\n",
       "      <td>0.000001</td>\n",
       "    </tr>\n",
       "    <tr>\n",
       "      <th>3</th>\n",
       "      <td>3</td>\n",
       "      <td>1.464818e+09</td>\n",
       "      <td>-0.078539</td>\n",
       "    </tr>\n",
       "    <tr>\n",
       "      <th>4</th>\n",
       "      <td>4</td>\n",
       "      <td>1.464818e+09</td>\n",
       "      <td>-0.069812</td>\n",
       "    </tr>\n",
       "  </tbody>\n",
       "</table>\n",
       "</div>"
      ],
      "text/plain": [
       "   Unnamed: 0          Time      data\n",
       "0           0  1.464818e+09  0.000001\n",
       "1           1  1.464818e+09 -0.078539\n",
       "2           2  1.464818e+09  0.000001\n",
       "3           3  1.464818e+09 -0.078539\n",
       "4           4  1.464818e+09 -0.069812"
      ]
     },
     "execution_count": 16,
     "metadata": {},
     "output_type": "execute_result"
    }
   ],
   "source": [
    "standard_df.head()"
   ]
  },
  {
   "cell_type": "code",
   "execution_count": 17,
   "metadata": {},
   "outputs": [
    {
     "data": {
      "text/html": [
       "<div>\n",
       "<style scoped>\n",
       "    .dataframe tbody tr th:only-of-type {\n",
       "        vertical-align: middle;\n",
       "    }\n",
       "\n",
       "    .dataframe tbody tr th {\n",
       "        vertical-align: top;\n",
       "    }\n",
       "\n",
       "    .dataframe thead th {\n",
       "        text-align: right;\n",
       "    }\n",
       "</style>\n",
       "<table border=\"1\" class=\"dataframe\">\n",
       "  <thead>\n",
       "    <tr style=\"text-align: right;\">\n",
       "      <th></th>\n",
       "      <th>Unnamed: 0</th>\n",
       "      <th>Time</th>\n",
       "      <th>force.x</th>\n",
       "      <th>force.y</th>\n",
       "      <th>force.z</th>\n",
       "      <th>torque.x</th>\n",
       "      <th>torque.y</th>\n",
       "      <th>torque.z</th>\n",
       "    </tr>\n",
       "  </thead>\n",
       "  <tbody>\n",
       "    <tr>\n",
       "      <th>0</th>\n",
       "      <td>0</td>\n",
       "      <td>1.464818e+09</td>\n",
       "      <td>0.0</td>\n",
       "      <td>0.0</td>\n",
       "      <td>0.0</td>\n",
       "      <td>0.0</td>\n",
       "      <td>0.0</td>\n",
       "      <td>0.0</td>\n",
       "    </tr>\n",
       "    <tr>\n",
       "      <th>1</th>\n",
       "      <td>1</td>\n",
       "      <td>1.464818e+09</td>\n",
       "      <td>0.0</td>\n",
       "      <td>0.0</td>\n",
       "      <td>0.0</td>\n",
       "      <td>0.0</td>\n",
       "      <td>0.0</td>\n",
       "      <td>0.0</td>\n",
       "    </tr>\n",
       "    <tr>\n",
       "      <th>2</th>\n",
       "      <td>2</td>\n",
       "      <td>1.464818e+09</td>\n",
       "      <td>0.0</td>\n",
       "      <td>0.0</td>\n",
       "      <td>0.0</td>\n",
       "      <td>0.0</td>\n",
       "      <td>0.0</td>\n",
       "      <td>0.0</td>\n",
       "    </tr>\n",
       "    <tr>\n",
       "      <th>3</th>\n",
       "      <td>3</td>\n",
       "      <td>1.464818e+09</td>\n",
       "      <td>0.0</td>\n",
       "      <td>0.0</td>\n",
       "      <td>0.0</td>\n",
       "      <td>0.0</td>\n",
       "      <td>0.0</td>\n",
       "      <td>0.0</td>\n",
       "    </tr>\n",
       "    <tr>\n",
       "      <th>4</th>\n",
       "      <td>4</td>\n",
       "      <td>1.464818e+09</td>\n",
       "      <td>0.0</td>\n",
       "      <td>0.0</td>\n",
       "      <td>0.0</td>\n",
       "      <td>0.0</td>\n",
       "      <td>0.0</td>\n",
       "      <td>0.0</td>\n",
       "    </tr>\n",
       "  </tbody>\n",
       "</table>\n",
       "</div>"
      ],
      "text/plain": [
       "   Unnamed: 0          Time  force.x  force.y  force.z  torque.x  torque.y  \\\n",
       "0           0  1.464818e+09      0.0      0.0      0.0       0.0       0.0   \n",
       "1           1  1.464818e+09      0.0      0.0      0.0       0.0       0.0   \n",
       "2           2  1.464818e+09      0.0      0.0      0.0       0.0       0.0   \n",
       "3           3  1.464818e+09      0.0      0.0      0.0       0.0       0.0   \n",
       "4           4  1.464818e+09      0.0      0.0      0.0       0.0       0.0   \n",
       "\n",
       "   torque.z  \n",
       "0       0.0  \n",
       "1       0.0  \n",
       "2       0.0  \n",
       "3       0.0  \n",
       "4       0.0  "
      ]
     },
     "execution_count": 17,
     "metadata": {},
     "output_type": "execute_result"
    }
   ],
   "source": [
    "wrench_df.head()"
   ]
  },
  {
   "cell_type": "markdown",
   "metadata": {},
   "source": [
    "## Explaining Data:\n",
    "\n",
    "Our data, each respective \".csv\" file, is generated from the \"origin.bag\" file. Using our Intel RealSense D4315i camera, data was recorded in and saved in a \".bag\" format. We used a python script (convert.py) to convert our \"origin.bag\" file into \".csv\" files that we will perform exploratory data analysis (EDA) in the cleaning data section below. Each respective dataset will also receive a brief explanation below.\n",
    "\n",
    "- <b>velocity_data</b>: This dataset currently contains 8 columns and 263 rows respectively. Currently there is time, linear and angular data represented as variables 'linear.x', 'linear.y', 'linear.z', 'angular.x', 'angular.y', and 'angular.z'. There is also one current column called 'Unnamed: 0' which is a copy of index values. This column will be cleaned out later in the EDA data cleaning section.\n",
    "- <b>odometry_data</b>: The shape of this dataset is currently 560 rows by 18 columns. Data within this dataset contain time, header_sequence, frame_id, position data, orientation data, linear data, and angular data. With regards to the position, orientation, linear, and angular data, each of these data sections are represented with 3 columns each separated into x,y,z variables. Similarly, the 'Unnamed: 0' column here will also need to be cleaned out. \n",
    "- <b>standard_data</b>:The shape of this dataset is currently 4183 rows by 3 columns. There is time, and messages data, as well as the 'Unnamed: 0' columnm, which will also have to be cleaned.\n",
    "- <b>wrench_data</b>: The shape of this dataframe is currently 1118 rows by 8 columns. The data in this dataframe contain time, force and torque data. The force and torque data is represented in the variables 'force.x', 'force.y', 'force.z', 'torque.x', 'torque.y', and 'torque.z' respectively. Likewise, 'Unnamed: 0' will also have to be cleaned here.\n"
   ]
  },
  {
   "cell_type": "markdown",
   "metadata": {},
   "source": [
    "# Cleaning The Dataframe:"
   ]
  },
  {
   "cell_type": "code",
   "execution_count": 36,
   "metadata": {},
   "outputs": [],
   "source": [
    "# In all the loaded dataframes, remove \"Unnamed: 0\" column, as it is a repeat of frame indicies.\n",
    "velocity_cleaned = velocity_df.drop([\"Unnamed: 0\"], axis=1)\n",
    "odometry_cleaned = odometry_df.drop([\"Unnamed: 0\"], axis=1)\n",
    "standard_cleaned = standard_df.drop([\"Unnamed: 0\"], axis=1)\n",
    "wrench_cleaned = wrench_df.drop([\"Unnamed: 0\"], axis=1)"
   ]
  },
  {
   "cell_type": "code",
   "execution_count": 37,
   "metadata": {},
   "outputs": [
    {
     "data": {
      "text/html": [
       "<div>\n",
       "<style scoped>\n",
       "    .dataframe tbody tr th:only-of-type {\n",
       "        vertical-align: middle;\n",
       "    }\n",
       "\n",
       "    .dataframe tbody tr th {\n",
       "        vertical-align: top;\n",
       "    }\n",
       "\n",
       "    .dataframe thead th {\n",
       "        text-align: right;\n",
       "    }\n",
       "</style>\n",
       "<table border=\"1\" class=\"dataframe\">\n",
       "  <thead>\n",
       "    <tr style=\"text-align: right;\">\n",
       "      <th></th>\n",
       "      <th>Time</th>\n",
       "      <th>linear.x</th>\n",
       "      <th>linear.y</th>\n",
       "      <th>linear.z</th>\n",
       "      <th>angular.x</th>\n",
       "      <th>angular.y</th>\n",
       "      <th>angular.z</th>\n",
       "    </tr>\n",
       "  </thead>\n",
       "  <tbody>\n",
       "    <tr>\n",
       "      <th>0</th>\n",
       "      <td>1.464818e+09</td>\n",
       "      <td>0.169401</td>\n",
       "      <td>0.0</td>\n",
       "      <td>0.0</td>\n",
       "      <td>0.0</td>\n",
       "      <td>0.0</td>\n",
       "      <td>NaN</td>\n",
       "    </tr>\n",
       "  </tbody>\n",
       "</table>\n",
       "</div>"
      ],
      "text/plain": [
       "           Time  linear.x  linear.y  linear.z  angular.x  angular.y  angular.z\n",
       "0  1.464818e+09  0.169401       0.0       0.0        0.0        0.0        NaN"
      ]
     },
     "execution_count": 37,
     "metadata": {},
     "output_type": "execute_result"
    }
   ],
   "source": [
    "# show that the data frames are now cleaned without any extra columns.\n",
    "velocity_cleaned.head(1)"
   ]
  },
  {
   "cell_type": "code",
   "execution_count": 43,
   "metadata": {},
   "outputs": [
    {
     "data": {
      "text/html": [
       "<div>\n",
       "<style scoped>\n",
       "    .dataframe tbody tr th:only-of-type {\n",
       "        vertical-align: middle;\n",
       "    }\n",
       "\n",
       "    .dataframe tbody tr th {\n",
       "        vertical-align: top;\n",
       "    }\n",
       "\n",
       "    .dataframe thead th {\n",
       "        text-align: right;\n",
       "    }\n",
       "</style>\n",
       "<table border=\"1\" class=\"dataframe\">\n",
       "  <thead>\n",
       "    <tr style=\"text-align: right;\">\n",
       "      <th></th>\n",
       "      <th>Time</th>\n",
       "      <th>header.seq</th>\n",
       "      <th>header.frame_id</th>\n",
       "      <th>child_frame_id</th>\n",
       "      <th>pose.x</th>\n",
       "      <th>pose.y</th>\n",
       "      <th>pose.z</th>\n",
       "      <th>orientation.x</th>\n",
       "      <th>orientation.y</th>\n",
       "      <th>orientation.z</th>\n",
       "      <th>orientation.w</th>\n",
       "      <th>linear.x</th>\n",
       "      <th>linear.y</th>\n",
       "      <th>linear.z</th>\n",
       "      <th>angular.x</th>\n",
       "      <th>angular.y</th>\n",
       "      <th>angular.z</th>\n",
       "    </tr>\n",
       "  </thead>\n",
       "  <tbody>\n",
       "    <tr>\n",
       "      <th>0</th>\n",
       "      <td>1.464818e+09</td>\n",
       "      <td>39500</td>\n",
       "      <td>/odom</td>\n",
       "      <td>base_link</td>\n",
       "      <td>505759.707787</td>\n",
       "      <td>3.564595e+06</td>\n",
       "      <td>716.135317</td>\n",
       "      <td>-0.00293</td>\n",
       "      <td>0.006255</td>\n",
       "      <td>-0.003309</td>\n",
       "      <td>0.999971</td>\n",
       "      <td>0.015346</td>\n",
       "      <td>0.000013</td>\n",
       "      <td>-0.067276</td>\n",
       "      <td>NaN</td>\n",
       "      <td>NaN</td>\n",
       "      <td>NaN</td>\n",
       "    </tr>\n",
       "  </tbody>\n",
       "</table>\n",
       "</div>"
      ],
      "text/plain": [
       "           Time  header.seq header.frame_id child_frame_id         pose.x  \\\n",
       "0  1.464818e+09       39500           /odom      base_link  505759.707787   \n",
       "\n",
       "         pose.y      pose.z  orientation.x  orientation.y  orientation.z  \\\n",
       "0  3.564595e+06  716.135317       -0.00293       0.006255      -0.003309   \n",
       "\n",
       "   orientation.w  linear.x  linear.y  linear.z  angular.x  angular.y  \\\n",
       "0       0.999971  0.015346  0.000013 -0.067276        NaN        NaN   \n",
       "\n",
       "   angular.z  \n",
       "0        NaN  "
      ]
     },
     "execution_count": 43,
     "metadata": {},
     "output_type": "execute_result"
    }
   ],
   "source": [
    "odometry_cleaned.head(1)"
   ]
  },
  {
   "cell_type": "code",
   "execution_count": 42,
   "metadata": {},
   "outputs": [
    {
     "data": {
      "text/html": [
       "<div>\n",
       "<style scoped>\n",
       "    .dataframe tbody tr th:only-of-type {\n",
       "        vertical-align: middle;\n",
       "    }\n",
       "\n",
       "    .dataframe tbody tr th {\n",
       "        vertical-align: top;\n",
       "    }\n",
       "\n",
       "    .dataframe thead th {\n",
       "        text-align: right;\n",
       "    }\n",
       "</style>\n",
       "<table border=\"1\" class=\"dataframe\">\n",
       "  <thead>\n",
       "    <tr style=\"text-align: right;\">\n",
       "      <th></th>\n",
       "      <th>Time</th>\n",
       "      <th>data</th>\n",
       "    </tr>\n",
       "  </thead>\n",
       "  <tbody>\n",
       "    <tr>\n",
       "      <th>0</th>\n",
       "      <td>1.464818e+09</td>\n",
       "      <td>0.000001</td>\n",
       "    </tr>\n",
       "  </tbody>\n",
       "</table>\n",
       "</div>"
      ],
      "text/plain": [
       "           Time      data\n",
       "0  1.464818e+09  0.000001"
      ]
     },
     "execution_count": 42,
     "metadata": {},
     "output_type": "execute_result"
    }
   ],
   "source": [
    "standard_cleaned.head(1)"
   ]
  },
  {
   "cell_type": "code",
   "execution_count": 41,
   "metadata": {},
   "outputs": [
    {
     "data": {
      "text/html": [
       "<div>\n",
       "<style scoped>\n",
       "    .dataframe tbody tr th:only-of-type {\n",
       "        vertical-align: middle;\n",
       "    }\n",
       "\n",
       "    .dataframe tbody tr th {\n",
       "        vertical-align: top;\n",
       "    }\n",
       "\n",
       "    .dataframe thead th {\n",
       "        text-align: right;\n",
       "    }\n",
       "</style>\n",
       "<table border=\"1\" class=\"dataframe\">\n",
       "  <thead>\n",
       "    <tr style=\"text-align: right;\">\n",
       "      <th></th>\n",
       "      <th>Time</th>\n",
       "      <th>force.x</th>\n",
       "      <th>force.y</th>\n",
       "      <th>force.z</th>\n",
       "      <th>torque.x</th>\n",
       "      <th>torque.y</th>\n",
       "      <th>torque.z</th>\n",
       "    </tr>\n",
       "  </thead>\n",
       "  <tbody>\n",
       "    <tr>\n",
       "      <th>0</th>\n",
       "      <td>1.464818e+09</td>\n",
       "      <td>0.0</td>\n",
       "      <td>0.0</td>\n",
       "      <td>0.0</td>\n",
       "      <td>0.0</td>\n",
       "      <td>0.0</td>\n",
       "      <td>0.0</td>\n",
       "    </tr>\n",
       "  </tbody>\n",
       "</table>\n",
       "</div>"
      ],
      "text/plain": [
       "           Time  force.x  force.y  force.z  torque.x  torque.y  torque.z\n",
       "0  1.464818e+09      0.0      0.0      0.0       0.0       0.0       0.0"
      ]
     },
     "execution_count": 41,
     "metadata": {},
     "output_type": "execute_result"
    }
   ],
   "source": [
    "wrench_cleaned.head(1)"
   ]
  },
  {
   "cell_type": "markdown",
   "metadata": {},
   "source": [
    "## Cleaning data:\n",
    "\n",
    "As mentioned earlier in this notebook, each of our respective datasets have the column 'Unnamed: 0' which is equivalently the index. This data is not meaningful data and removing this column will be reduce the amount of data being worked with. Above, we have outputted one row from each dataframe to showcase the removal of this column. \n",
    "\n",
    "- <b>note</b>: In future edits, we are likely to manipulate the 'Time' column data into a format that is easier to understand."
   ]
  },
  {
   "cell_type": "markdown",
   "metadata": {},
   "source": [
    "# Exploratory Data Analysis:"
   ]
  },
  {
   "cell_type": "code",
   "execution_count": 91,
   "metadata": {},
   "outputs": [
    {
     "data": {
      "image/png": "[encoded data removed]",
      "text/plain": [
       "<Figure size 1080x432 with 1 Axes>"
      ]
     },
     "metadata": {
      "needs_background": "light"
     },
     "output_type": "display_data"
    }
   ],
   "source": [
    "# plot velocity data using matplotlib.\n",
    "\n",
    "plt.plot(velocity_cleaned['Time'], velocity_cleaned['linear.x'], color='black')\n",
    "plt.title('Linear Velocity Timeseries', fontsize=15)\n",
    "plt.xlabel('Time', fontsize=15)\n",
    "plt.ylabel('Linear Velocity', fontsize=15)\n",
    "plt.grid()\n",
    "plt.show()"
   ]
  },
  {
   "cell_type": "markdown",
   "metadata": {},
   "source": [
    "The linear velocity dataframe shows that there exists only data for linear.x columns. This is because the vehicle is only moving in the x-direction. The changes in linear velocity is displayed in the graph."
   ]
  },
  {
   "cell_type": "code",
   "execution_count": 74,
   "metadata": {},
   "outputs": [
    {
     "data": {
      "image/png": "[encoded data removed]",
      "text/plain": [
       "<Figure size 1080x432 with 1 Axes>"
      ]
     },
     "metadata": {
      "needs_background": "light"
     },
     "output_type": "display_data"
    }
   ],
   "source": [
    "# plot the positional odometry data using matplotlib.\n",
    "\n",
    "plt.plot(odometry_cleaned['Time'], odometry_cleaned['pose.x'], color='r', label='x position')\n",
    "plt.plot(odometry_cleaned['Time'], odometry_cleaned['pose.y'], color='g', label='y position')\n",
    "plt.plot(odometry_cleaned['Time'], odometry_cleaned['pose.z'], color='b', label='z position')\n",
    "plt.title('Position Odometry Timeseries', fontsize=15)\n",
    "plt.xlabel('Time', fontsize=15)\n",
    "plt.ylabel('Position Odometry', fontsize=15)\n",
    "plt.legend(fontsize=13)\n",
    "plt.grid()\n",
    "plt.show()"
   ]
  },
  {
   "cell_type": "markdown",
   "metadata": {},
   "source": [
    "The positional odometry data is unchanged throughout the collection of the data, because the position (location) of the wheel is unchanged. This is reflected in the horizontal line graphs."
   ]
  },
  {
   "cell_type": "code",
   "execution_count": 75,
   "metadata": {},
   "outputs": [
    {
     "data": {
      "image/png": "[encoded data removed]",
      "text/plain": [
       "<Figure size 1080x432 with 1 Axes>"
      ]
     },
     "metadata": {
      "needs_background": "light"
     },
     "output_type": "display_data"
    }
   ],
   "source": [
    "# plot the orientation(directional) odometry data using matplotlib.\n",
    "\n",
    "plt.plot(odometry_cleaned['Time'], odometry_cleaned['orientation.x'], color='r', label='x orientation')\n",
    "plt.plot(odometry_cleaned['Time'], odometry_cleaned['orientation.y'], color='g', label='y orientation')\n",
    "plt.plot(odometry_cleaned['Time'], odometry_cleaned['orientation.z'], color='b', label='z orientation')\n",
    "plt.title('Orientation (Directional) Odometry Timeseries', fontsize=15)\n",
    "plt.xlabel('Time', fontsize=15)\n",
    "plt.ylabel('Orientation (Direction) Odometry', fontsize=15)\n",
    "plt.legend(fontsize=13)\n",
    "plt.grid()\n",
    "plt.show()"
   ]
  },
  {
   "cell_type": "markdown",
   "metadata": {},
   "source": [
    "Orientational odometry data explains what direction the wheel is moving towards. \n",
    "In the data received, the wheels change direction at approximately the same time, changing the graph's overall shape for the three orientational axes."
   ]
  },
  {
   "cell_type": "code",
   "execution_count": 92,
   "metadata": {},
   "outputs": [
    {
     "data": {
      "image/png": "[encoded data removed]",
      "text/plain": [
       "<Figure size 1080x432 with 1 Axes>"
      ]
     },
     "metadata": {
      "needs_background": "light"
     },
     "output_type": "display_data"
    }
   ],
   "source": [
    "# plot the standard data using matplotlib.\n",
    "\n",
    "plt.plot(standard_cleaned['Time'], standard_cleaned['data'], color='navy')\n",
    "plt.title('Standard Data Timeseries', fontsize=15)\n",
    "plt.xlabel('Time', fontsize=15)\n",
    "plt.ylabel('Standard Data', fontsize=15)\n",
    "plt.grid()\n",
    "plt.show()"
   ]
  },
  {
   "cell_type": "markdown",
   "metadata": {},
   "source": [
    "The time data used to plot the graph is measured in nano-seconds, which is why the data is congested.\n",
    "In the future, we plan to scale the data using camera settings to increase legibility."
   ]
  },
  {
   "cell_type": "code",
   "execution_count": 88,
   "metadata": {},
   "outputs": [
    {
     "data": {
      "text/html": [
       "<div>\n",
       "<style scoped>\n",
       "    .dataframe tbody tr th:only-of-type {\n",
       "        vertical-align: middle;\n",
       "    }\n",
       "\n",
       "    .dataframe tbody tr th {\n",
       "        vertical-align: top;\n",
       "    }\n",
       "\n",
       "    .dataframe thead th {\n",
       "        text-align: right;\n",
       "    }\n",
       "</style>\n",
       "<table border=\"1\" class=\"dataframe\">\n",
       "  <thead>\n",
       "    <tr style=\"text-align: right;\">\n",
       "      <th></th>\n",
       "      <th>Time</th>\n",
       "      <th>force.x</th>\n",
       "      <th>force.y</th>\n",
       "      <th>force.z</th>\n",
       "      <th>torque.x</th>\n",
       "      <th>torque.y</th>\n",
       "      <th>torque.z</th>\n",
       "    </tr>\n",
       "  </thead>\n",
       "  <tbody>\n",
       "    <tr>\n",
       "      <th>946</th>\n",
       "      <td>1.464818e+09</td>\n",
       "      <td>0.0</td>\n",
       "      <td>0.0</td>\n",
       "      <td>0.0</td>\n",
       "      <td>0.0</td>\n",
       "      <td>0.0</td>\n",
       "      <td>0.0</td>\n",
       "    </tr>\n",
       "    <tr>\n",
       "      <th>1035</th>\n",
       "      <td>1.464818e+09</td>\n",
       "      <td>0.0</td>\n",
       "      <td>0.0</td>\n",
       "      <td>0.0</td>\n",
       "      <td>0.0</td>\n",
       "      <td>0.0</td>\n",
       "      <td>0.0</td>\n",
       "    </tr>\n",
       "    <tr>\n",
       "      <th>1110</th>\n",
       "      <td>1.464818e+09</td>\n",
       "      <td>0.0</td>\n",
       "      <td>0.0</td>\n",
       "      <td>0.0</td>\n",
       "      <td>0.0</td>\n",
       "      <td>0.0</td>\n",
       "      <td>0.0</td>\n",
       "    </tr>\n",
       "    <tr>\n",
       "      <th>884</th>\n",
       "      <td>1.464818e+09</td>\n",
       "      <td>0.0</td>\n",
       "      <td>0.0</td>\n",
       "      <td>0.0</td>\n",
       "      <td>0.0</td>\n",
       "      <td>0.0</td>\n",
       "      <td>0.0</td>\n",
       "    </tr>\n",
       "    <tr>\n",
       "      <th>617</th>\n",
       "      <td>1.464818e+09</td>\n",
       "      <td>0.0</td>\n",
       "      <td>0.0</td>\n",
       "      <td>0.0</td>\n",
       "      <td>0.0</td>\n",
       "      <td>0.0</td>\n",
       "      <td>0.0</td>\n",
       "    </tr>\n",
       "    <tr>\n",
       "      <th>441</th>\n",
       "      <td>1.464818e+09</td>\n",
       "      <td>0.0</td>\n",
       "      <td>0.0</td>\n",
       "      <td>0.0</td>\n",
       "      <td>0.0</td>\n",
       "      <td>0.0</td>\n",
       "      <td>0.0</td>\n",
       "    </tr>\n",
       "    <tr>\n",
       "      <th>203</th>\n",
       "      <td>1.464818e+09</td>\n",
       "      <td>0.0</td>\n",
       "      <td>0.0</td>\n",
       "      <td>0.0</td>\n",
       "      <td>0.0</td>\n",
       "      <td>0.0</td>\n",
       "      <td>0.0</td>\n",
       "    </tr>\n",
       "    <tr>\n",
       "      <th>947</th>\n",
       "      <td>1.464818e+09</td>\n",
       "      <td>0.0</td>\n",
       "      <td>0.0</td>\n",
       "      <td>0.0</td>\n",
       "      <td>0.0</td>\n",
       "      <td>0.0</td>\n",
       "      <td>0.0</td>\n",
       "    </tr>\n",
       "    <tr>\n",
       "      <th>1</th>\n",
       "      <td>1.464818e+09</td>\n",
       "      <td>0.0</td>\n",
       "      <td>0.0</td>\n",
       "      <td>0.0</td>\n",
       "      <td>0.0</td>\n",
       "      <td>0.0</td>\n",
       "      <td>0.0</td>\n",
       "    </tr>\n",
       "    <tr>\n",
       "      <th>437</th>\n",
       "      <td>1.464818e+09</td>\n",
       "      <td>0.0</td>\n",
       "      <td>0.0</td>\n",
       "      <td>0.0</td>\n",
       "      <td>0.0</td>\n",
       "      <td>0.0</td>\n",
       "      <td>0.0</td>\n",
       "    </tr>\n",
       "  </tbody>\n",
       "</table>\n",
       "</div>"
      ],
      "text/plain": [
       "              Time  force.x  force.y  force.z  torque.x  torque.y  torque.z\n",
       "946   1.464818e+09      0.0      0.0      0.0       0.0       0.0       0.0\n",
       "1035  1.464818e+09      0.0      0.0      0.0       0.0       0.0       0.0\n",
       "1110  1.464818e+09      0.0      0.0      0.0       0.0       0.0       0.0\n",
       "884   1.464818e+09      0.0      0.0      0.0       0.0       0.0       0.0\n",
       "617   1.464818e+09      0.0      0.0      0.0       0.0       0.0       0.0\n",
       "441   1.464818e+09      0.0      0.0      0.0       0.0       0.0       0.0\n",
       "203   1.464818e+09      0.0      0.0      0.0       0.0       0.0       0.0\n",
       "947   1.464818e+09      0.0      0.0      0.0       0.0       0.0       0.0\n",
       "1     1.464818e+09      0.0      0.0      0.0       0.0       0.0       0.0\n",
       "437   1.464818e+09      0.0      0.0      0.0       0.0       0.0       0.0"
      ]
     },
     "execution_count": 88,
     "metadata": {},
     "output_type": "execute_result"
    }
   ],
   "source": [
    "# show that there was no torque data generated using .sample on wrench dataframe.\n",
    "\n",
    "wrench_cleaned.sample(10)"
   ]
  },
  {
   "cell_type": "markdown",
   "metadata": {},
   "source": [
    "There was no torque (rotational force) given to the vehicle, so there exists no data for plotting."
   ]
  }
 ],
 "metadata": {
  "kernelspec": {
   "display_name": "Python 3",
   "language": "python",
   "name": "python3"
  },
  "language_info": {
   "codemirror_mode": {
    "name": "ipython",
    "version": 3
   },
   "file_extension": ".py",
   "mimetype": "text/x-python",
   "name": "python",
   "nbconvert_exporter": "python",
   "pygments_lexer": "ipython3",
   "version": "3.7.6"
  }
 },
 "nbformat": 4,
 "nbformat_minor": 2
}
